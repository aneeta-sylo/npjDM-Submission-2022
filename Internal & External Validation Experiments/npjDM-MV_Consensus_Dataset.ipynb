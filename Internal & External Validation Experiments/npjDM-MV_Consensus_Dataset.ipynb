{
 "cells": [
  {
   "cell_type": "markdown",
   "metadata": {},
   "source": [
    "# Majority-Vote Consensus Dataset"
   ]
  },
  {
   "cell_type": "markdown",
   "metadata": {},
   "source": [
    "This jupyter notebook outlines the steps to create the **Majority-Vote Consensus Dataset** - taking the majority-vote ICU-PSS class label across all annotators for each instance. "
   ]
  },
  {
   "cell_type": "code",
   "execution_count": null,
   "metadata": {},
   "outputs": [],
   "source": [
    "#Import necessary modules \n",
    "\n",
    "import pandas as pd\n",
    "import numpy as np \n",
    "import matplotlib.pyplot as plt \n",
    "from sklearn.metrics import cohen_kappa_score\n",
    "from statsmodels.stats.inter_rater import fleiss_kappa"
   ]
  },
  {
   "cell_type": "markdown",
   "metadata": {},
   "source": [
    "# 1. Import Annotated Datasets"
   ]
  },
  {
   "cell_type": "code",
   "execution_count": null,
   "metadata": {},
   "outputs": [],
   "source": [
    "#Import Consultant no.1 dataset\n",
    "\n",
    "c1 = pd.read_excel('./p01.xlsx').sort_values(by = ['PseudoID'], ascending=[True])\n",
    "cols = ['Dobutamine','Time','Bckgrnd','PseudoID','Line of Selected Timepoint']\n",
    "c1 = c1.drop(columns = cols)\n",
    "c1 = c1.rename(columns={'Mean': 'MAP'}) #rename Mean to MAP\n",
    "\n",
    "#Replace null with 0 in drug fields (as blank value indicates value=0, as confirmed by Prof Sim)\n",
    "c1['Adrenaline'] = c1['Adrenaline'].replace(np.nan, 0)\n",
    "c1['Noradrenaline'] = c1['Noradrenaline'].replace(np.nan, 0)\n",
    "\n",
    "print(c1.shape)\n",
    "c1.head()"
   ]
  },
  {
   "cell_type": "code",
   "execution_count": null,
   "metadata": {},
   "outputs": [],
   "source": [
    "#Import Consultant no.2 dataset\n",
    "\n",
    "c2 = pd.read_csv('./p02.csv').sort_values(by = ['PseudoID'], ascending=[True])\n",
    "cols = ['Dobutamine','Time','Bckgrnd','PseudoID','Line of Selected Timepoint']\n",
    "c2 = c2.drop(columns = cols)\n",
    "c2 = c2.rename(columns={'Mean': 'MAP'}) #rename Mean to MAP\n",
    "\n",
    "#Replace null with 0 in drug fields (as blank value indicates value=0, as confirmed by Prof Sim)\n",
    "c2['Adrenaline'] = c2['Adrenaline'].replace(np.nan, 0)\n",
    "c2['Noradrenaline'] = c2['Noradrenaline'].replace(np.nan, 0)\n",
    "\n",
    "print(c2.shape)\n",
    "c2.head()"
   ]
  },
  {
   "cell_type": "code",
   "execution_count": null,
   "metadata": {},
   "outputs": [],
   "source": [
    "#Import Consultant no.3 dataset\n",
    "\n",
    "c3 = pd.read_csv('./p03.csv').sort_values(by = ['PseudoID'], ascending=[True])\n",
    "cols = ['Dobutamine','Time','Bckgrnd','PseudoID','Line of Selected Timepoint']\n",
    "c3 = c3.drop(columns = cols)\n",
    "c3 = c3.rename(columns={'Mean': 'MAP'}) #rename Mean to MAP\n",
    "\n",
    "#Replace null with 0 in drug fields (as blank value indicates value=0, as confirmed by Prof Sim)\n",
    "c3['Adrenaline'] = c3['Adrenaline'].replace(np.nan, 0)\n",
    "c3['Noradrenaline'] = c3['Noradrenaline'].replace(np.nan, 0)\n",
    "\n",
    "print(c3.shape)\n",
    "c3.head()"
   ]
  },
  {
   "cell_type": "code",
   "execution_count": null,
   "metadata": {},
   "outputs": [],
   "source": [
    "#Import Consultant no.4 dataset\n",
    "\n",
    "c4 = pd.read_excel('./p04.xlsx').sort_values(by = ['PseudoID'], ascending=[True])\n",
    "cols = ['Dobutamine','Time','Bckgrnd','PseudoID','Line of Selected Timepoint']\n",
    "c4 = c4.drop(columns = cols)\n",
    "c4 = c4.rename(columns={'Mean': 'MAP'}) #rename Mean to MAP\n",
    "\n",
    "#Replace null with 0 in drug fields (as blank value indicates value=0, as confirmed by Prof Sim)\n",
    "c4['Adrenaline'] = c4['Adrenaline'].replace(np.nan, 0)\n",
    "c4['Noradrenaline'] = c4['Noradrenaline'].replace(np.nan, 0)\n",
    "\n",
    "print(c4.shape)\n",
    "c4.head()"
   ]
  },
  {
   "cell_type": "code",
   "execution_count": null,
   "metadata": {},
   "outputs": [],
   "source": [
    "#Import Consultant no.5 dataset\n",
    "\n",
    "c5 = pd.read_csv('./p05.csv').sort_values(by = ['PseudoID'], ascending=[True])\n",
    "cols = ['Dobutamine','Time','Bckgrnd','PseudoID','Line of Selected Timepoint']\n",
    "c5 = c5.drop(columns = cols)\n",
    "c5 = c5.rename(columns={'Mean': 'MAP'}) #rename Mean to MAP\n",
    "\n",
    "#Replace null with 0 in drug fields (as blank value indicates value=0, as confirmed by Prof Sim)\n",
    "c5['Adrenaline'] = c5['Adrenaline'].replace(np.nan, 0)\n",
    "c5['Noradrenaline'] = c5['Noradrenaline'].replace(np.nan, 0)\n",
    "\n",
    "print(c5.shape)\n",
    "c5.head()"
   ]
  },
  {
   "cell_type": "code",
   "execution_count": null,
   "metadata": {},
   "outputs": [],
   "source": [
    "#Import Consultant no.6 dataset\n",
    "\n",
    "c6 = pd.read_excel('./p06.xlsx').sort_values(by = ['PseudoID'], ascending=[True])\n",
    "cols = ['Dobutamine','Time','Bckgrnd','PseudoID','Line of Selected Timepoint']\n",
    "c6 = c6.drop(columns = cols)\n",
    "c6 = c6.rename(columns={'Mean': 'MAP'}) #rename Mean to MAP\n",
    "\n",
    "#Replace null with 0 in drug fields (as blank value indicates value=0, as confirmed by Prof Sim)\n",
    "c6['Adrenaline'] = c6['Adrenaline'].replace(np.nan, 0)\n",
    "c6['Noradrenaline'] = c6['Noradrenaline'].replace(np.nan, 0)\n",
    "\n",
    "print(c6.shape)\n",
    "c6.head()"
   ]
  },
  {
   "cell_type": "code",
   "execution_count": null,
   "metadata": {},
   "outputs": [],
   "source": [
    "#Import Consultant no.7 dataset\n",
    "\n",
    "c7 = pd.read_csv('./p07.csv').sort_values(by = ['PseudoID'], ascending=[True])\n",
    "cols = ['Dobutamine','Time','Bckgrnd','PseudoID','Line of Selected Timepoint']\n",
    "c7 = c7.drop(columns = cols)\n",
    "c7 = c7.rename(columns={'Mean': 'MAP'}) #rename Mean to MAP\n",
    "\n",
    "#Replace null with 0 in drug fields (as blank value indicates value=0, as confirmed by Prof Sim)\n",
    "c7['Adrenaline'] = c7['Adrenaline'].replace(np.nan, 0)\n",
    "c7['Noradrenaline'] = c7['Noradrenaline'].replace(np.nan, 0)\n",
    "\n",
    "print(c7.shape)\n",
    "c7.head()"
   ]
  },
  {
   "cell_type": "code",
   "execution_count": null,
   "metadata": {},
   "outputs": [],
   "source": [
    "#Import Consultant no.8 dataset\n",
    "\n",
    "c8 = pd.read_csv('./p08.csv').sort_values(by = ['PseudoID'], ascending=[True])\n",
    "cols = ['Dobutamine','Time','Bckgrnd','PseudoID','Line of Selected Timepoint']\n",
    "c8 = c8.drop(columns = cols)\n",
    "c8 = c8.rename(columns={'Mean': 'MAP'}) #rename Mean to MAP\n",
    "\n",
    "#Replace null with 0 in drug fields (as blank value indicates value=0, as confirmed by Prof Sim)\n",
    "c8['Adrenaline'] = c8['Adrenaline'].replace(np.nan, 0)\n",
    "c8['Noradrenaline'] = c8['Noradrenaline'].replace(np.nan, 0)\n",
    "\n",
    "print(c8.shape)\n",
    "c8.head()"
   ]
  },
  {
   "cell_type": "code",
   "execution_count": null,
   "metadata": {},
   "outputs": [],
   "source": [
    "#Import Consultant no.9 dataset\n",
    "\n",
    "c9 = pd.read_csv('./p09.csv').sort_values(by = ['PseudoID'], ascending=[True])\n",
    "cols = ['Dobutamine','Time','Bckgrnd','PseudoID','Line of Selected Timepoint']\n",
    "c9 = c9.drop(columns = cols)\n",
    "c9 = c9.rename(columns={'Mean': 'MAP'}) #rename Mean to MAP\n",
    "\n",
    "#Replace null with 0 in drug fields (as blank value indicates value=0, as confirmed by Prof Sim)\n",
    "c9['Adrenaline'] = c9['Adrenaline'].replace(np.nan, 0)\n",
    "c9['Noradrenaline'] = c9['Noradrenaline'].replace(np.nan, 0)\n",
    "\n",
    "print(c9.shape)\n",
    "c9.head()"
   ]
  },
  {
   "cell_type": "code",
   "execution_count": null,
   "metadata": {},
   "outputs": [],
   "source": [
    "#Import Consultant no.10 dataset\n",
    "\n",
    "c10 = pd.read_csv('./p10.csv').sort_values(by = ['PseudoID'], ascending=[True])\n",
    "cols = ['Dobutamine','Time','Bckgrnd','PseudoID','Line of Selected Timepoint']\n",
    "c10 = c10.drop(columns = cols)\n",
    "c10 = c10.rename(columns={'Mean': 'MAP'}) #rename Mean to MAP\n",
    "\n",
    "#Replace null with 0 in drug fields (as blank value indicates value=0, as confirmed by Prof Sim)\n",
    "c10['Adrenaline'] = c10['Adrenaline'].replace(np.nan, 0)\n",
    "c10['Noradrenaline'] = c10['Noradrenaline'].replace(np.nan, 0)\n",
    "\n",
    "print(c10.shape)\n",
    "c10.head()"
   ]
  },
  {
   "cell_type": "code",
   "execution_count": null,
   "metadata": {},
   "outputs": [],
   "source": [
    "#Import Consultant no.11 dataset\n",
    "\n",
    "c11 = pd.read_excel('./p11.xlsx').sort_values(by = ['PseudoID'], ascending=[True])\n",
    "cols = ['Dobutamine','Time','Bckgrnd','PseudoID','Line of Selected Timepoint']\n",
    "c11 = c11.drop(columns = cols)\n",
    "c11 = c11.rename(columns={'Mean': 'MAP'}) #rename Mean to MAP\n",
    "\n",
    "#Replace null with 0 in drug fields (as blank value indicates value=0, as confirmed by Prof Sim)\n",
    "c11['Adrenaline'] = c11['Adrenaline'].replace(np.nan, 0)\n",
    "c11['Noradrenaline'] = c11['Noradrenaline'].replace(np.nan, 0)\n",
    "\n",
    "c11['Annotation'] = c11['Annotation'].str.upper()\n",
    "\n",
    "print(c11.shape)\n",
    "c11.head()"
   ]
  },
  {
   "cell_type": "markdown",
   "metadata": {},
   "source": [
    "## 2. Create MV Consensus Dataset"
   ]
  },
  {
   "cell_type": "markdown",
   "metadata": {},
   "source": [
    "Create MV Consensus Dataset using majority-vote labels across all 11 annotatotors."
   ]
  },
  {
   "cell_type": "code",
   "execution_count": null,
   "metadata": {},
   "outputs": [],
   "source": [
    "c1sub = c1.iloc[:,:7]\n",
    "c1sub = c1sub.rename(columns={'Annotation': 'C1'})\n",
    "                            \n",
    "c2sub = c2.iloc[:,:7]\n",
    "c2sub = c2sub.rename(columns={'Annotation': 'C2'})\n",
    "\n",
    "c3sub = c3.iloc[:,:7]\n",
    "c3sub = c3sub.rename(columns={'Annotation': 'C3'})\n",
    "\n",
    "c4sub = c4.iloc[:,:7]\n",
    "c4sub = c4sub.rename(columns={'Annotation': 'C4'})\n",
    "\n",
    "c5sub = c5.iloc[:,:7]\n",
    "c5sub = c5sub.rename(columns={'Annotation': 'C5'})\n",
    "\n",
    "c6sub = c6.iloc[:,:7]\n",
    "c6sub = c6sub.rename(columns={'Annotation': 'C6'})\n",
    "\n",
    "c7sub = c7.iloc[:,:7]\n",
    "c7sub = c7sub.rename(columns={'Annotation': 'C7'})\n",
    "\n",
    "c8sub = c8.iloc[:,:7]\n",
    "c8sub = c8sub.rename(columns={'Annotation': 'C8'})\n",
    "\n",
    "c9sub = c9.iloc[:,:7]\n",
    "c9sub = c9sub.rename(columns={'Annotation': 'C9'})\n",
    "\n",
    "c10sub = c10.iloc[:,:7]\n",
    "c10sub = c10sub.rename(columns={'Annotation': 'C10'})\n",
    "\n",
    "c11sub = c11.iloc[:,:7]\n",
    "c11sub = c11sub.rename(columns={'Annotation': 'C11'})"
   ]
  },
  {
   "cell_type": "code",
   "execution_count": null,
   "metadata": {},
   "outputs": [],
   "source": [
    "#Majority vote\n",
    "\n",
    "cols = ['Adrenaline','Noradrenaline','FiO2','SpO2','MAP','HR']\n",
    "all_ann = c1sub.merge(c2sub,on=cols).merge(c3sub,on=cols).merge(c4sub,on=cols).merge(c5sub,on=cols).merge(c6sub,on=cols).merge(c7sub,on=cols).merge(c8sub,on=cols).merge(c9sub,on=cols).merge(c10sub,on=cols).merge(c11sub,on=cols)\n",
    "\n",
    "all_ann['Annotation']= all_ann.mode(axis=1)[0]  #majority vote\n",
    "\n",
    "print(all_ann.shape)\n",
    "print(all_ann.Annotation.value_counts())\n",
    "all_ann.head()"
   ]
  },
  {
   "cell_type": "code",
   "execution_count": null,
   "metadata": {},
   "outputs": [],
   "source": [
    "#Drop unnecessary columns\n",
    "\n",
    "mv= all_ann.copy(deep=True)\n",
    "cols = [6,7,8,9,10,11,12,13,14,15,16]\n",
    "mv.drop(all_ann.columns[cols],axis=1,inplace=True)\n",
    "\n",
    "##save majority-vote dataset\n",
    "mv.to_csv(\"MV-Consensus-Dataset.csv\")\n",
    "\n",
    "print(mv.shape)\n",
    "mv.head()"
   ]
  }
 ],
 "metadata": {
  "kernelspec": {
   "display_name": "Python 3 (ipykernel)",
   "language": "python",
   "name": "python3"
  },
  "language_info": {
   "codemirror_mode": {
    "name": "ipython",
    "version": 3
   },
   "file_extension": ".py",
   "mimetype": "text/x-python",
   "name": "python",
   "nbconvert_exporter": "python",
   "pygments_lexer": "ipython3",
   "version": "3.9.12"
  }
 },
 "nbformat": 4,
 "nbformat_minor": 4
}
